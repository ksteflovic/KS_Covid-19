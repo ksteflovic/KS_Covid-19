{
 "cells": [
  {
   "cell_type": "markdown",
   "metadata": {
    "collapsed": true,
    "pycharm": {
     "is_executing": false,
     "name": "#%% md\n"
    }
   },
   "source": [
    "### Načítanie knižníc"
   ]
  },
  {
   "cell_type": "code",
   "execution_count": 42,
   "outputs": [],
   "source": [
    "# nacitanie kniznic pre analyzu dat\n",
    "import pandas as pd\n",
    "import numpy as np\n",
    "\n",
    "# nacitanie kniznic pre rozhodovacie stromy\n",
    "from sklearn.tree import DecisionTreeClassifier # Import Decision Tree Classifier\n",
    "from sklearn.model_selection import train_test_split # Import train_test_split function\n",
    "from sklearn import metrics #Import scikit-learn metrics module for accuracy calculation\n",
    "\n",
    "# kniznica na zobrazenie frame-u\n",
    "from IPython.display import IFrame"
   ],
   "metadata": {
    "collapsed": false,
    "pycharm": {
     "name": "#%% \n",
     "is_executing": false
    }
   }
  },
  {
   "cell_type": "markdown",
   "source": [
    "### Načítanie datasetu"
   ],
   "metadata": {
    "collapsed": false,
    "pycharm": {
     "name": "#%% md\n",
     "is_executing": false
    }
   }
  },
  {
   "cell_type": "code",
   "execution_count": 44,
   "outputs": [],
   "source": [
    "# dataset sa nachadza na tejto adrese: https://www.kaggle.com/bitsofishan/covid19-patient-symptoms\n",
    "IFrame('https://www.kaggle.com/bitsofishan/covid19-patient-symptoms', width = 800, height = 450)\n",
    "\n",
    "# u mna je lokalizovany lokalne v projekte\n",
    "# nacitam jeho cestuip\n",
    "csv_file_path = \"../db/COVID-19-Survey.csv\"\n"
   ],
   "metadata": {
    "collapsed": false,
    "pycharm": {
     "name": "#%%\n",
     "is_executing": false
    }
   }
  },
  {
   "cell_type": "code",
   "execution_count": 45,
   "outputs": [],
   "source": [
    "# nazvy stlpcov, s ktorymi budeme pracovat\n",
    "# col_names = ['age', 'gender','body-temperature', 'dry-cough', 'sour-throat', 'breathing-problem', 'wearness', 'drowsiness', 'pain-in-chest', 'diabetes','change-in-sns','travel-history']\n",
    "\n",
    "# nacitame dataset\n",
    "covid_csv = pd.read_csv(csv_file_path, sep=\";\")"
   ],
   "metadata": {
    "collapsed": false,
    "pycharm": {
     "name": "#%%\n",
     "is_executing": false
    }
   }
  },
  {
   "cell_type": "code",
   "execution_count": 46,
   "outputs": [
    {
     "data": {
      "text/plain": "   age gender body-temperature  dry-cough  sour-throat  breathing-problem  \\\n0   20      F               37          0            0                  0   \n1   19      F             37,2          1            0                  0   \n2   55      M             38,9          1            1                  1   \n3   40      M             37,8          0            0                  0   \n4   33      F             37,3          0            1                  1   \n\n   pain-in-chest  weakness  drowsiness  diabetes  change-in-sns  \\\n0              0         0           0         0              0   \n1              0         0           0         0              0   \n2              1         1           1         0              1   \n3              1         0           1         1              1   \n4              0         0           0         0              1   \n\n   travel-history  \n0               0  \n1               0  \n2               0  \n3               1  \n4               1  ",
      "text/html": "<div>\n<style scoped>\n    .dataframe tbody tr th:only-of-type {\n        vertical-align: middle;\n    }\n\n    .dataframe tbody tr th {\n        vertical-align: top;\n    }\n\n    .dataframe thead th {\n        text-align: right;\n    }\n</style>\n<table border=\"1\" class=\"dataframe\">\n  <thead>\n    <tr style=\"text-align: right;\">\n      <th></th>\n      <th>age</th>\n      <th>gender</th>\n      <th>body-temperature</th>\n      <th>dry-cough</th>\n      <th>sour-throat</th>\n      <th>breathing-problem</th>\n      <th>pain-in-chest</th>\n      <th>weakness</th>\n      <th>drowsiness</th>\n      <th>diabetes</th>\n      <th>change-in-sns</th>\n      <th>travel-history</th>\n    </tr>\n  </thead>\n  <tbody>\n    <tr>\n      <th>0</th>\n      <td>20</td>\n      <td>F</td>\n      <td>37</td>\n      <td>0</td>\n      <td>0</td>\n      <td>0</td>\n      <td>0</td>\n      <td>0</td>\n      <td>0</td>\n      <td>0</td>\n      <td>0</td>\n      <td>0</td>\n    </tr>\n    <tr>\n      <th>1</th>\n      <td>19</td>\n      <td>F</td>\n      <td>37,2</td>\n      <td>1</td>\n      <td>0</td>\n      <td>0</td>\n      <td>0</td>\n      <td>0</td>\n      <td>0</td>\n      <td>0</td>\n      <td>0</td>\n      <td>0</td>\n    </tr>\n    <tr>\n      <th>2</th>\n      <td>55</td>\n      <td>M</td>\n      <td>38,9</td>\n      <td>1</td>\n      <td>1</td>\n      <td>1</td>\n      <td>1</td>\n      <td>1</td>\n      <td>1</td>\n      <td>0</td>\n      <td>1</td>\n      <td>0</td>\n    </tr>\n    <tr>\n      <th>3</th>\n      <td>40</td>\n      <td>M</td>\n      <td>37,8</td>\n      <td>0</td>\n      <td>0</td>\n      <td>0</td>\n      <td>1</td>\n      <td>0</td>\n      <td>1</td>\n      <td>1</td>\n      <td>1</td>\n      <td>1</td>\n    </tr>\n    <tr>\n      <th>4</th>\n      <td>33</td>\n      <td>F</td>\n      <td>37,3</td>\n      <td>0</td>\n      <td>1</td>\n      <td>1</td>\n      <td>0</td>\n      <td>0</td>\n      <td>0</td>\n      <td>0</td>\n      <td>1</td>\n      <td>1</td>\n    </tr>\n  </tbody>\n</table>\n</div>"
     },
     "metadata": {},
     "output_type": "execute_result",
     "execution_count": 46
    }
   ],
   "source": [
    "covid_csv.head(5)"
   ],
   "metadata": {
    "collapsed": false,
    "pycharm": {
     "name": "#%%\n",
     "is_executing": false
    }
   }
  },
  {
   "cell_type": "code",
   "execution_count": 47,
   "outputs": [
    {
     "data": {
      "text/plain": "              age   dry-cough  sour-throat  breathing-problem  pain-in-chest  \\\ncount  127.000000  127.000000   127.000000         127.000000     127.000000   \nmean    36.456693    0.488189     0.551181           0.433071       0.370079   \nstd     14.052484    0.501840     0.499343           0.497463       0.484738   \nmin     18.000000    0.000000     0.000000           0.000000       0.000000   \n25%     25.500000    0.000000     0.000000           0.000000       0.000000   \n50%     33.000000    0.000000     1.000000           0.000000       0.000000   \n75%     45.000000    1.000000     1.000000           1.000000       1.000000   \nmax     80.000000    1.000000     1.000000           1.000000       1.000000   \n\n         weakness  drowsiness    diabetes  change-in-sns  travel-history  \ncount  127.000000  127.000000  127.000000     127.000000      127.000000  \nmean     0.409449    0.425197    0.244094       0.629921        0.464567  \nstd      0.493680    0.496331    0.431250       0.484738        0.500718  \nmin      0.000000    0.000000    0.000000       0.000000        0.000000  \n25%      0.000000    0.000000    0.000000       0.000000        0.000000  \n50%      0.000000    0.000000    0.000000       1.000000        0.000000  \n75%      1.000000    1.000000    0.000000       1.000000        1.000000  \nmax      1.000000    1.000000    1.000000       1.000000        1.000000  ",
      "text/html": "<div>\n<style scoped>\n    .dataframe tbody tr th:only-of-type {\n        vertical-align: middle;\n    }\n\n    .dataframe tbody tr th {\n        vertical-align: top;\n    }\n\n    .dataframe thead th {\n        text-align: right;\n    }\n</style>\n<table border=\"1\" class=\"dataframe\">\n  <thead>\n    <tr style=\"text-align: right;\">\n      <th></th>\n      <th>age</th>\n      <th>dry-cough</th>\n      <th>sour-throat</th>\n      <th>breathing-problem</th>\n      <th>pain-in-chest</th>\n      <th>weakness</th>\n      <th>drowsiness</th>\n      <th>diabetes</th>\n      <th>change-in-sns</th>\n      <th>travel-history</th>\n    </tr>\n  </thead>\n  <tbody>\n    <tr>\n      <th>count</th>\n      <td>127.000000</td>\n      <td>127.000000</td>\n      <td>127.000000</td>\n      <td>127.000000</td>\n      <td>127.000000</td>\n      <td>127.000000</td>\n      <td>127.000000</td>\n      <td>127.000000</td>\n      <td>127.000000</td>\n      <td>127.000000</td>\n    </tr>\n    <tr>\n      <th>mean</th>\n      <td>36.456693</td>\n      <td>0.488189</td>\n      <td>0.551181</td>\n      <td>0.433071</td>\n      <td>0.370079</td>\n      <td>0.409449</td>\n      <td>0.425197</td>\n      <td>0.244094</td>\n      <td>0.629921</td>\n      <td>0.464567</td>\n    </tr>\n    <tr>\n      <th>std</th>\n      <td>14.052484</td>\n      <td>0.501840</td>\n      <td>0.499343</td>\n      <td>0.497463</td>\n      <td>0.484738</td>\n      <td>0.493680</td>\n      <td>0.496331</td>\n      <td>0.431250</td>\n      <td>0.484738</td>\n      <td>0.500718</td>\n    </tr>\n    <tr>\n      <th>min</th>\n      <td>18.000000</td>\n      <td>0.000000</td>\n      <td>0.000000</td>\n      <td>0.000000</td>\n      <td>0.000000</td>\n      <td>0.000000</td>\n      <td>0.000000</td>\n      <td>0.000000</td>\n      <td>0.000000</td>\n      <td>0.000000</td>\n    </tr>\n    <tr>\n      <th>25%</th>\n      <td>25.500000</td>\n      <td>0.000000</td>\n      <td>0.000000</td>\n      <td>0.000000</td>\n      <td>0.000000</td>\n      <td>0.000000</td>\n      <td>0.000000</td>\n      <td>0.000000</td>\n      <td>0.000000</td>\n      <td>0.000000</td>\n    </tr>\n    <tr>\n      <th>50%</th>\n      <td>33.000000</td>\n      <td>0.000000</td>\n      <td>1.000000</td>\n      <td>0.000000</td>\n      <td>0.000000</td>\n      <td>0.000000</td>\n      <td>0.000000</td>\n      <td>0.000000</td>\n      <td>1.000000</td>\n      <td>0.000000</td>\n    </tr>\n    <tr>\n      <th>75%</th>\n      <td>45.000000</td>\n      <td>1.000000</td>\n      <td>1.000000</td>\n      <td>1.000000</td>\n      <td>1.000000</td>\n      <td>1.000000</td>\n      <td>1.000000</td>\n      <td>0.000000</td>\n      <td>1.000000</td>\n      <td>1.000000</td>\n    </tr>\n    <tr>\n      <th>max</th>\n      <td>80.000000</td>\n      <td>1.000000</td>\n      <td>1.000000</td>\n      <td>1.000000</td>\n      <td>1.000000</td>\n      <td>1.000000</td>\n      <td>1.000000</td>\n      <td>1.000000</td>\n      <td>1.000000</td>\n      <td>1.000000</td>\n    </tr>\n  </tbody>\n</table>\n</div>"
     },
     "metadata": {},
     "output_type": "execute_result",
     "execution_count": 47
    }
   ],
   "source": [
    "covid_csv.describe()"
   ],
   "metadata": {
    "collapsed": false,
    "pycharm": {
     "name": "#%%\n",
     "is_executing": false
    }
   }
  },
  {
   "cell_type": "code",
   "execution_count": 48,
   "outputs": [],
   "source": [
    "# v datasete sa nachadza okrem ciselnych aj jeden stlpec s kategorialnou premennou\n",
    "# get dummies prehodi kategorialne premenne na ciselne\n",
    "new_covid_csv = pd.get_dummies(covid_csv, columns=[\"gender\"], drop_first=False)"
   ],
   "metadata": {
    "collapsed": false,
    "pycharm": {
     "name": "#%%\n",
     "is_executing": false
    }
   }
  },
  {
   "cell_type": "code",
   "execution_count": 49,
   "outputs": [
    {
     "data": {
      "text/plain": "     age body-temperature  dry-cough  sour-throat  breathing-problem  \\\n0     20               37          0            0                  0   \n1     19             37,2          1            0                  0   \n2     55             38,9          1            1                  1   \n3     40             37,8          0            0                  0   \n4     33             37,3          0            1                  1   \n..   ...              ...        ...          ...                ...   \n122   37             38,9          1            1                  1   \n123   35             37,8          0            0                  0   \n124   22             37,3          0            0                  1   \n125   29             38,9          0            1                  1   \n126   38             38,3          1            1                  1   \n\n     pain-in-chest  weakness  drowsiness  diabetes  change-in-sns  \\\n0                0         0           0         0              0   \n1                0         0           0         0              0   \n2                1         1           1         0              1   \n3                1         0           1         1              1   \n4                0         0           0         0              1   \n..             ...       ...         ...       ...            ...   \n122              0         1           0         0              1   \n123              1         0           1         1              1   \n124              0         0           0         0              1   \n125              1         1           1         0              1   \n126              1         0           1         1              0   \n\n     travel-history  gender_F  gender_M  \n0                 0         1         0  \n1                 0         1         0  \n2                 0         0         1  \n3                 1         0         1  \n4                 1         1         0  \n..              ...       ...       ...  \n122               0         1         0  \n123               1         0         1  \n124               0         1         0  \n125               0         0         1  \n126               1         0         1  \n\n[127 rows x 13 columns]",
      "text/html": "<div>\n<style scoped>\n    .dataframe tbody tr th:only-of-type {\n        vertical-align: middle;\n    }\n\n    .dataframe tbody tr th {\n        vertical-align: top;\n    }\n\n    .dataframe thead th {\n        text-align: right;\n    }\n</style>\n<table border=\"1\" class=\"dataframe\">\n  <thead>\n    <tr style=\"text-align: right;\">\n      <th></th>\n      <th>age</th>\n      <th>body-temperature</th>\n      <th>dry-cough</th>\n      <th>sour-throat</th>\n      <th>breathing-problem</th>\n      <th>pain-in-chest</th>\n      <th>weakness</th>\n      <th>drowsiness</th>\n      <th>diabetes</th>\n      <th>change-in-sns</th>\n      <th>travel-history</th>\n      <th>gender_F</th>\n      <th>gender_M</th>\n    </tr>\n  </thead>\n  <tbody>\n    <tr>\n      <th>0</th>\n      <td>20</td>\n      <td>37</td>\n      <td>0</td>\n      <td>0</td>\n      <td>0</td>\n      <td>0</td>\n      <td>0</td>\n      <td>0</td>\n      <td>0</td>\n      <td>0</td>\n      <td>0</td>\n      <td>1</td>\n      <td>0</td>\n    </tr>\n    <tr>\n      <th>1</th>\n      <td>19</td>\n      <td>37,2</td>\n      <td>1</td>\n      <td>0</td>\n      <td>0</td>\n      <td>0</td>\n      <td>0</td>\n      <td>0</td>\n      <td>0</td>\n      <td>0</td>\n      <td>0</td>\n      <td>1</td>\n      <td>0</td>\n    </tr>\n    <tr>\n      <th>2</th>\n      <td>55</td>\n      <td>38,9</td>\n      <td>1</td>\n      <td>1</td>\n      <td>1</td>\n      <td>1</td>\n      <td>1</td>\n      <td>1</td>\n      <td>0</td>\n      <td>1</td>\n      <td>0</td>\n      <td>0</td>\n      <td>1</td>\n    </tr>\n    <tr>\n      <th>3</th>\n      <td>40</td>\n      <td>37,8</td>\n      <td>0</td>\n      <td>0</td>\n      <td>0</td>\n      <td>1</td>\n      <td>0</td>\n      <td>1</td>\n      <td>1</td>\n      <td>1</td>\n      <td>1</td>\n      <td>0</td>\n      <td>1</td>\n    </tr>\n    <tr>\n      <th>4</th>\n      <td>33</td>\n      <td>37,3</td>\n      <td>0</td>\n      <td>1</td>\n      <td>1</td>\n      <td>0</td>\n      <td>0</td>\n      <td>0</td>\n      <td>0</td>\n      <td>1</td>\n      <td>1</td>\n      <td>1</td>\n      <td>0</td>\n    </tr>\n    <tr>\n      <th>...</th>\n      <td>...</td>\n      <td>...</td>\n      <td>...</td>\n      <td>...</td>\n      <td>...</td>\n      <td>...</td>\n      <td>...</td>\n      <td>...</td>\n      <td>...</td>\n      <td>...</td>\n      <td>...</td>\n      <td>...</td>\n      <td>...</td>\n    </tr>\n    <tr>\n      <th>122</th>\n      <td>37</td>\n      <td>38,9</td>\n      <td>1</td>\n      <td>1</td>\n      <td>1</td>\n      <td>0</td>\n      <td>1</td>\n      <td>0</td>\n      <td>0</td>\n      <td>1</td>\n      <td>0</td>\n      <td>1</td>\n      <td>0</td>\n    </tr>\n    <tr>\n      <th>123</th>\n      <td>35</td>\n      <td>37,8</td>\n      <td>0</td>\n      <td>0</td>\n      <td>0</td>\n      <td>1</td>\n      <td>0</td>\n      <td>1</td>\n      <td>1</td>\n      <td>1</td>\n      <td>1</td>\n      <td>0</td>\n      <td>1</td>\n    </tr>\n    <tr>\n      <th>124</th>\n      <td>22</td>\n      <td>37,3</td>\n      <td>0</td>\n      <td>0</td>\n      <td>1</td>\n      <td>0</td>\n      <td>0</td>\n      <td>0</td>\n      <td>0</td>\n      <td>1</td>\n      <td>0</td>\n      <td>1</td>\n      <td>0</td>\n    </tr>\n    <tr>\n      <th>125</th>\n      <td>29</td>\n      <td>38,9</td>\n      <td>0</td>\n      <td>1</td>\n      <td>1</td>\n      <td>1</td>\n      <td>1</td>\n      <td>1</td>\n      <td>0</td>\n      <td>1</td>\n      <td>0</td>\n      <td>0</td>\n      <td>1</td>\n    </tr>\n    <tr>\n      <th>126</th>\n      <td>38</td>\n      <td>38,3</td>\n      <td>1</td>\n      <td>1</td>\n      <td>1</td>\n      <td>1</td>\n      <td>0</td>\n      <td>1</td>\n      <td>1</td>\n      <td>0</td>\n      <td>1</td>\n      <td>0</td>\n      <td>1</td>\n    </tr>\n  </tbody>\n</table>\n<p>127 rows × 13 columns</p>\n</div>"
     },
     "metadata": {},
     "output_type": "execute_result",
     "execution_count": 49
    }
   ],
   "source": [
    "new_covid_csv\n",
    "\n",
    "\n",
    "\n",
    "\n"
   ],
   "metadata": {
    "collapsed": false,
    "pycharm": {
     "name": "#%%\n",
     "is_executing": false
    }
   }
  },
  {
   "cell_type": "code",
   "execution_count": null,
   "outputs": [],
   "source": [
    "X = new_covid_csv.iloc[:,0:11]\n",
    "y=np.ravel(new_covid_csv['result'])\n",
    "\n",
    "X_train, X_test, y_train, y_test = train_test_split(X, y, test_size=0.2)\n"
   ],
   "metadata": {
    "collapsed": false,
    "pycharm": {
     "name": "#%%\n"
    }
   }
  }
 ],
 "metadata": {
  "kernelspec": {
   "display_name": "Python 3",
   "language": "python",
   "name": "python3"
  },
  "language_info": {
   "codemirror_mode": {
    "name": "ipython",
    "version": 2
   },
   "file_extension": ".py",
   "mimetype": "text/x-python",
   "name": "python",
   "nbconvert_exporter": "python",
   "pygments_lexer": "ipython2",
   "version": "2.7.6"
  },
  "pycharm": {
   "stem_cell": {
    "cell_type": "raw",
    "source": [],
    "metadata": {
     "collapsed": false
    }
   }
  }
 },
 "nbformat": 4,
 "nbformat_minor": 0
}