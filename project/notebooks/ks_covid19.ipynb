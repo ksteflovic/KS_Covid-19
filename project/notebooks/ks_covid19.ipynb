{
 "cells": [
  {
   "cell_type": "markdown",
   "metadata": {
    "collapsed": true,
    "pycharm": {
     "is_executing": false,
     "name": "#%% md\n"
    }
   },
   "source": [
    "### Načítanie knižníc"
   ]
  },
  {
   "cell_type": "code",
   "execution_count": 397,
   "outputs": [],
   "source": [
    "# nacitanie kniznic pre analyzu dat\n",
    "import pandas as pd\n",
    "import numpy as np\n",
    "\n",
    "# nacitanie kniznic pre rozhodovacie stromy\n",
    "from sklearn.tree import DecisionTreeClassifier # Import Decision Tree Classifier\n",
    "from sklearn.model_selection import train_test_split # Import train_test_split function\n",
    "from sklearn import metrics #Import scikit-learn metrics module for accuracy calculation\n",
    "\n",
    "# kniznica na zobrazenie frame-u\n",
    "from IPython.display import IFrame\n",
    "\n",
    "#knižnice pre znázornenie rozhodovacieho stromu\n",
    "import pydotplus\n",
    "from sklearn.tree import export_graphviz\n",
    "from sklearn.externals.six import StringIO\n",
    "from IPython.display import Image"
   ],
   "metadata": {
    "collapsed": false,
    "pycharm": {
     "name": "#%% \n"
    }
   }
  },
  {
   "cell_type": "markdown",
   "source": [
    "### Načítanie datasetu"
   ],
   "metadata": {
    "collapsed": false,
    "pycharm": {
     "name": "#%% md\n",
     "is_executing": false
    }
   }
  },
  {
   "cell_type": "code",
   "execution_count": 398,
   "outputs": [],
   "source": [
    "# dataset sa nachadza na tejto adrese: https://www.kaggle.com/bitsofishan/covid19-patient-symptoms\n",
    "IFrame('https://www.kaggle.com', width = 800, height = 450)\n",
    "\n",
    "# u mna je lokalizovany lokalne v projekte\n",
    "# nacitam jeho cestuip\n",
    "csv_file_path = \"../db/COVID-19-Survey.csv\"\n"
   ],
   "metadata": {
    "collapsed": false,
    "pycharm": {
     "name": "#%%\n"
    }
   }
  },
  {
   "cell_type": "code",
   "execution_count": 399,
   "outputs": [],
   "source": [
    "# nazvy stlpcov, s ktorymi budeme pracovat\n",
    "# col_names = ['age', 'gender','body-temperature', 'dry-cough', 'sour-throat', 'breathing-problem', 'wearness', 'drowsiness', 'pain-in-chest', 'diabetes','change-in-sns','travel-history']\n",
    "\n",
    "# nacitame dataset\n",
    "covid_csv = pd.read_csv(csv_file_path, sep=\";\")"
   ],
   "metadata": {
    "collapsed": false,
    "pycharm": {
     "name": "#%%\n"
    }
   }
  },
  {
   "cell_type": "code",
   "execution_count": 400,
   "outputs": [
    {
     "data": {
      "text/plain": "   age gender  body-temperature  dry-cough  sour-throat  breathing-problem  \\\n0   20      F              37.0          0            0                  0   \n1   19      F              37.2          1            0                  0   \n2   55      M              38.9          1            1                  1   \n3   40      M              37.8          0            0                  0   \n4   33      F              37.3          0            1                  1   \n\n   pain-in-chest  weakness  drowsiness  diabetes  change-in-sns  \\\n0              0         0           0         0              0   \n1              0         0           0         0              0   \n2              1         1           1         0              1   \n3              1         0           1         1              1   \n4              0         0           0         0              1   \n\n   travel-history  result  \n0               0       0  \n1               0       0  \n2               0       1  \n3               1       2  \n4               1       2  ",
      "text/html": "<div>\n<style scoped>\n    .dataframe tbody tr th:only-of-type {\n        vertical-align: middle;\n    }\n\n    .dataframe tbody tr th {\n        vertical-align: top;\n    }\n\n    .dataframe thead th {\n        text-align: right;\n    }\n</style>\n<table border=\"1\" class=\"dataframe\">\n  <thead>\n    <tr style=\"text-align: right;\">\n      <th></th>\n      <th>age</th>\n      <th>gender</th>\n      <th>body-temperature</th>\n      <th>dry-cough</th>\n      <th>sour-throat</th>\n      <th>breathing-problem</th>\n      <th>pain-in-chest</th>\n      <th>weakness</th>\n      <th>drowsiness</th>\n      <th>diabetes</th>\n      <th>change-in-sns</th>\n      <th>travel-history</th>\n      <th>result</th>\n    </tr>\n  </thead>\n  <tbody>\n    <tr>\n      <th>0</th>\n      <td>20</td>\n      <td>F</td>\n      <td>37.0</td>\n      <td>0</td>\n      <td>0</td>\n      <td>0</td>\n      <td>0</td>\n      <td>0</td>\n      <td>0</td>\n      <td>0</td>\n      <td>0</td>\n      <td>0</td>\n      <td>0</td>\n    </tr>\n    <tr>\n      <th>1</th>\n      <td>19</td>\n      <td>F</td>\n      <td>37.2</td>\n      <td>1</td>\n      <td>0</td>\n      <td>0</td>\n      <td>0</td>\n      <td>0</td>\n      <td>0</td>\n      <td>0</td>\n      <td>0</td>\n      <td>0</td>\n      <td>0</td>\n    </tr>\n    <tr>\n      <th>2</th>\n      <td>55</td>\n      <td>M</td>\n      <td>38.9</td>\n      <td>1</td>\n      <td>1</td>\n      <td>1</td>\n      <td>1</td>\n      <td>1</td>\n      <td>1</td>\n      <td>0</td>\n      <td>1</td>\n      <td>0</td>\n      <td>1</td>\n    </tr>\n    <tr>\n      <th>3</th>\n      <td>40</td>\n      <td>M</td>\n      <td>37.8</td>\n      <td>0</td>\n      <td>0</td>\n      <td>0</td>\n      <td>1</td>\n      <td>0</td>\n      <td>1</td>\n      <td>1</td>\n      <td>1</td>\n      <td>1</td>\n      <td>2</td>\n    </tr>\n    <tr>\n      <th>4</th>\n      <td>33</td>\n      <td>F</td>\n      <td>37.3</td>\n      <td>0</td>\n      <td>1</td>\n      <td>1</td>\n      <td>0</td>\n      <td>0</td>\n      <td>0</td>\n      <td>0</td>\n      <td>1</td>\n      <td>1</td>\n      <td>2</td>\n    </tr>\n  </tbody>\n</table>\n</div>"
     },
     "execution_count": 400,
     "metadata": {},
     "output_type": "execute_result"
    }
   ],
   "source": [
    "covid_csv.head(5)"
   ],
   "metadata": {
    "collapsed": false,
    "pycharm": {
     "name": "#%%\n"
    }
   }
  },
  {
   "cell_type": "code",
   "execution_count": 401,
   "outputs": [
    {
     "data": {
      "text/plain": "              age  body-temperature   dry-cough  sour-throat  \\\ncount  127.000000        127.000000  127.000000   127.000000   \nmean    36.456693         37.794488    0.488189     0.551181   \nstd     14.052484          0.870532    0.501840     0.499343   \nmin     18.000000         35.600000    0.000000     0.000000   \n25%     25.500000         37.200000    0.000000     0.000000   \n50%     33.000000         37.600000    0.000000     1.000000   \n75%     45.000000         38.550000    1.000000     1.000000   \nmax     80.000000         39.500000    1.000000     1.000000   \n\n       breathing-problem  pain-in-chest    weakness  drowsiness    diabetes  \\\ncount         127.000000     127.000000  127.000000  127.000000  127.000000   \nmean            0.433071       0.370079    0.409449    0.425197    0.244094   \nstd             0.497463       0.484738    0.493680    0.496331    0.431250   \nmin             0.000000       0.000000    0.000000    0.000000    0.000000   \n25%             0.000000       0.000000    0.000000    0.000000    0.000000   \n50%             0.000000       0.000000    0.000000    0.000000    0.000000   \n75%             1.000000       1.000000    1.000000    1.000000    0.000000   \nmax             1.000000       1.000000    1.000000    1.000000    1.000000   \n\n       change-in-sns  travel-history      result  \ncount     127.000000      127.000000  127.000000  \nmean        0.629921        0.464567    0.937008  \nstd         0.484738        0.500718    0.675513  \nmin         0.000000        0.000000    0.000000  \n25%         0.000000        0.000000    0.000000  \n50%         1.000000        0.000000    1.000000  \n75%         1.000000        1.000000    1.000000  \nmax         1.000000        1.000000    2.000000  ",
      "text/html": "<div>\n<style scoped>\n    .dataframe tbody tr th:only-of-type {\n        vertical-align: middle;\n    }\n\n    .dataframe tbody tr th {\n        vertical-align: top;\n    }\n\n    .dataframe thead th {\n        text-align: right;\n    }\n</style>\n<table border=\"1\" class=\"dataframe\">\n  <thead>\n    <tr style=\"text-align: right;\">\n      <th></th>\n      <th>age</th>\n      <th>body-temperature</th>\n      <th>dry-cough</th>\n      <th>sour-throat</th>\n      <th>breathing-problem</th>\n      <th>pain-in-chest</th>\n      <th>weakness</th>\n      <th>drowsiness</th>\n      <th>diabetes</th>\n      <th>change-in-sns</th>\n      <th>travel-history</th>\n      <th>result</th>\n    </tr>\n  </thead>\n  <tbody>\n    <tr>\n      <th>count</th>\n      <td>127.000000</td>\n      <td>127.000000</td>\n      <td>127.000000</td>\n      <td>127.000000</td>\n      <td>127.000000</td>\n      <td>127.000000</td>\n      <td>127.000000</td>\n      <td>127.000000</td>\n      <td>127.000000</td>\n      <td>127.000000</td>\n      <td>127.000000</td>\n      <td>127.000000</td>\n    </tr>\n    <tr>\n      <th>mean</th>\n      <td>36.456693</td>\n      <td>37.794488</td>\n      <td>0.488189</td>\n      <td>0.551181</td>\n      <td>0.433071</td>\n      <td>0.370079</td>\n      <td>0.409449</td>\n      <td>0.425197</td>\n      <td>0.244094</td>\n      <td>0.629921</td>\n      <td>0.464567</td>\n      <td>0.937008</td>\n    </tr>\n    <tr>\n      <th>std</th>\n      <td>14.052484</td>\n      <td>0.870532</td>\n      <td>0.501840</td>\n      <td>0.499343</td>\n      <td>0.497463</td>\n      <td>0.484738</td>\n      <td>0.493680</td>\n      <td>0.496331</td>\n      <td>0.431250</td>\n      <td>0.484738</td>\n      <td>0.500718</td>\n      <td>0.675513</td>\n    </tr>\n    <tr>\n      <th>min</th>\n      <td>18.000000</td>\n      <td>35.600000</td>\n      <td>0.000000</td>\n      <td>0.000000</td>\n      <td>0.000000</td>\n      <td>0.000000</td>\n      <td>0.000000</td>\n      <td>0.000000</td>\n      <td>0.000000</td>\n      <td>0.000000</td>\n      <td>0.000000</td>\n      <td>0.000000</td>\n    </tr>\n    <tr>\n      <th>25%</th>\n      <td>25.500000</td>\n      <td>37.200000</td>\n      <td>0.000000</td>\n      <td>0.000000</td>\n      <td>0.000000</td>\n      <td>0.000000</td>\n      <td>0.000000</td>\n      <td>0.000000</td>\n      <td>0.000000</td>\n      <td>0.000000</td>\n      <td>0.000000</td>\n      <td>0.000000</td>\n    </tr>\n    <tr>\n      <th>50%</th>\n      <td>33.000000</td>\n      <td>37.600000</td>\n      <td>0.000000</td>\n      <td>1.000000</td>\n      <td>0.000000</td>\n      <td>0.000000</td>\n      <td>0.000000</td>\n      <td>0.000000</td>\n      <td>0.000000</td>\n      <td>1.000000</td>\n      <td>0.000000</td>\n      <td>1.000000</td>\n    </tr>\n    <tr>\n      <th>75%</th>\n      <td>45.000000</td>\n      <td>38.550000</td>\n      <td>1.000000</td>\n      <td>1.000000</td>\n      <td>1.000000</td>\n      <td>1.000000</td>\n      <td>1.000000</td>\n      <td>1.000000</td>\n      <td>0.000000</td>\n      <td>1.000000</td>\n      <td>1.000000</td>\n      <td>1.000000</td>\n    </tr>\n    <tr>\n      <th>max</th>\n      <td>80.000000</td>\n      <td>39.500000</td>\n      <td>1.000000</td>\n      <td>1.000000</td>\n      <td>1.000000</td>\n      <td>1.000000</td>\n      <td>1.000000</td>\n      <td>1.000000</td>\n      <td>1.000000</td>\n      <td>1.000000</td>\n      <td>1.000000</td>\n      <td>2.000000</td>\n    </tr>\n  </tbody>\n</table>\n</div>"
     },
     "execution_count": 401,
     "metadata": {},
     "output_type": "execute_result"
    }
   ],
   "source": [
    "covid_csv.describe()"
   ],
   "metadata": {
    "collapsed": false,
    "pycharm": {
     "name": "#%%\n"
    }
   }
  },
  {
   "cell_type": "code",
   "execution_count": 402,
   "outputs": [],
   "source": [
    "# v datasete sa nachadza okrem ciselnych aj jeden stlpec s kategorialnou premennou\n",
    "# get dummies prehodi kategorialne premenne na ciselne\n",
    "new_covid_csv = pd.get_dummies(covid_csv, columns=[\"gender\"], drop_first=False)"
   ],
   "metadata": {
    "collapsed": false,
    "pycharm": {
     "name": "#%%\n"
    }
   }
  },
  {
   "cell_type": "code",
   "execution_count": 403,
   "outputs": [
    {
     "data": {
      "text/plain": "     age  body-temperature  dry-cough  sour-throat  breathing-problem  \\\n0     20              37.0          0            0                  0   \n1     19              37.2          1            0                  0   \n2     55              38.9          1            1                  1   \n3     40              37.8          0            0                  0   \n4     33              37.3          0            1                  1   \n..   ...               ...        ...          ...                ...   \n122   37              38.9          1            1                  1   \n123   35              37.8          0            0                  0   \n124   22              37.3          0            0                  1   \n125   29              38.9          0            1                  1   \n126   38              38.3          1            1                  1   \n\n     pain-in-chest  weakness  drowsiness  diabetes  change-in-sns  \\\n0                0         0           0         0              0   \n1                0         0           0         0              0   \n2                1         1           1         0              1   \n3                1         0           1         1              1   \n4                0         0           0         0              1   \n..             ...       ...         ...       ...            ...   \n122              0         1           0         0              1   \n123              1         0           1         1              1   \n124              0         0           0         0              1   \n125              1         1           1         0              1   \n126              1         0           1         1              0   \n\n     travel-history  result  gender_F  gender_M  \n0                 0       0         1         0  \n1                 0       0         1         0  \n2                 0       1         0         1  \n3                 1       2         0         1  \n4                 1       2         1         0  \n..              ...     ...       ...       ...  \n122               0       0         1         0  \n123               1       1         0         1  \n124               0       1         1         0  \n125               0       0         0         1  \n126               1       2         0         1  \n\n[127 rows x 14 columns]",
      "text/html": "<div>\n<style scoped>\n    .dataframe tbody tr th:only-of-type {\n        vertical-align: middle;\n    }\n\n    .dataframe tbody tr th {\n        vertical-align: top;\n    }\n\n    .dataframe thead th {\n        text-align: right;\n    }\n</style>\n<table border=\"1\" class=\"dataframe\">\n  <thead>\n    <tr style=\"text-align: right;\">\n      <th></th>\n      <th>age</th>\n      <th>body-temperature</th>\n      <th>dry-cough</th>\n      <th>sour-throat</th>\n      <th>breathing-problem</th>\n      <th>pain-in-chest</th>\n      <th>weakness</th>\n      <th>drowsiness</th>\n      <th>diabetes</th>\n      <th>change-in-sns</th>\n      <th>travel-history</th>\n      <th>result</th>\n      <th>gender_F</th>\n      <th>gender_M</th>\n    </tr>\n  </thead>\n  <tbody>\n    <tr>\n      <th>0</th>\n      <td>20</td>\n      <td>37.0</td>\n      <td>0</td>\n      <td>0</td>\n      <td>0</td>\n      <td>0</td>\n      <td>0</td>\n      <td>0</td>\n      <td>0</td>\n      <td>0</td>\n      <td>0</td>\n      <td>0</td>\n      <td>1</td>\n      <td>0</td>\n    </tr>\n    <tr>\n      <th>1</th>\n      <td>19</td>\n      <td>37.2</td>\n      <td>1</td>\n      <td>0</td>\n      <td>0</td>\n      <td>0</td>\n      <td>0</td>\n      <td>0</td>\n      <td>0</td>\n      <td>0</td>\n      <td>0</td>\n      <td>0</td>\n      <td>1</td>\n      <td>0</td>\n    </tr>\n    <tr>\n      <th>2</th>\n      <td>55</td>\n      <td>38.9</td>\n      <td>1</td>\n      <td>1</td>\n      <td>1</td>\n      <td>1</td>\n      <td>1</td>\n      <td>1</td>\n      <td>0</td>\n      <td>1</td>\n      <td>0</td>\n      <td>1</td>\n      <td>0</td>\n      <td>1</td>\n    </tr>\n    <tr>\n      <th>3</th>\n      <td>40</td>\n      <td>37.8</td>\n      <td>0</td>\n      <td>0</td>\n      <td>0</td>\n      <td>1</td>\n      <td>0</td>\n      <td>1</td>\n      <td>1</td>\n      <td>1</td>\n      <td>1</td>\n      <td>2</td>\n      <td>0</td>\n      <td>1</td>\n    </tr>\n    <tr>\n      <th>4</th>\n      <td>33</td>\n      <td>37.3</td>\n      <td>0</td>\n      <td>1</td>\n      <td>1</td>\n      <td>0</td>\n      <td>0</td>\n      <td>0</td>\n      <td>0</td>\n      <td>1</td>\n      <td>1</td>\n      <td>2</td>\n      <td>1</td>\n      <td>0</td>\n    </tr>\n    <tr>\n      <th>...</th>\n      <td>...</td>\n      <td>...</td>\n      <td>...</td>\n      <td>...</td>\n      <td>...</td>\n      <td>...</td>\n      <td>...</td>\n      <td>...</td>\n      <td>...</td>\n      <td>...</td>\n      <td>...</td>\n      <td>...</td>\n      <td>...</td>\n      <td>...</td>\n    </tr>\n    <tr>\n      <th>122</th>\n      <td>37</td>\n      <td>38.9</td>\n      <td>1</td>\n      <td>1</td>\n      <td>1</td>\n      <td>0</td>\n      <td>1</td>\n      <td>0</td>\n      <td>0</td>\n      <td>1</td>\n      <td>0</td>\n      <td>0</td>\n      <td>1</td>\n      <td>0</td>\n    </tr>\n    <tr>\n      <th>123</th>\n      <td>35</td>\n      <td>37.8</td>\n      <td>0</td>\n      <td>0</td>\n      <td>0</td>\n      <td>1</td>\n      <td>0</td>\n      <td>1</td>\n      <td>1</td>\n      <td>1</td>\n      <td>1</td>\n      <td>1</td>\n      <td>0</td>\n      <td>1</td>\n    </tr>\n    <tr>\n      <th>124</th>\n      <td>22</td>\n      <td>37.3</td>\n      <td>0</td>\n      <td>0</td>\n      <td>1</td>\n      <td>0</td>\n      <td>0</td>\n      <td>0</td>\n      <td>0</td>\n      <td>1</td>\n      <td>0</td>\n      <td>1</td>\n      <td>1</td>\n      <td>0</td>\n    </tr>\n    <tr>\n      <th>125</th>\n      <td>29</td>\n      <td>38.9</td>\n      <td>0</td>\n      <td>1</td>\n      <td>1</td>\n      <td>1</td>\n      <td>1</td>\n      <td>1</td>\n      <td>0</td>\n      <td>1</td>\n      <td>0</td>\n      <td>0</td>\n      <td>0</td>\n      <td>1</td>\n    </tr>\n    <tr>\n      <th>126</th>\n      <td>38</td>\n      <td>38.3</td>\n      <td>1</td>\n      <td>1</td>\n      <td>1</td>\n      <td>1</td>\n      <td>0</td>\n      <td>1</td>\n      <td>1</td>\n      <td>0</td>\n      <td>1</td>\n      <td>2</td>\n      <td>0</td>\n      <td>1</td>\n    </tr>\n  </tbody>\n</table>\n<p>127 rows × 14 columns</p>\n</div>"
     },
     "execution_count": 403,
     "metadata": {},
     "output_type": "execute_result"
    }
   ],
   "source": [
    "new_covid_csv\n"
   ],
   "metadata": {
    "collapsed": false,
    "pycharm": {
     "name": "#%%\n"
    }
   }
  },
  {
   "cell_type": "code",
   "execution_count": 404,
   "outputs": [],
   "source": [
    "# rozdelenie do trénovacej a testovacej množiny v pomere 80 : 20\n",
    "X = new_covid_csv[['dry-cough', 'sour-throat', 'breathing-problem', 'weakness', 'drowsiness', 'pain-in-chest', 'diabetes','change-in-sns','travel-history', 'gender_F', 'gender_M']]\n",
    "y = new_covid_csv['result']\n",
    "\n",
    "X_train, X_test, y_train, y_test = train_test_split(X, y, test_size=0.2)"
   ],
   "metadata": {
    "collapsed": false,
    "pycharm": {
     "name": "#%%\n"
    }
   }
  },
  {
   "cell_type": "code",
   "execution_count": 405,
   "outputs": [],
   "source": [
    "clf = DecisionTreeClassifier()"
   ],
   "metadata": {
    "collapsed": false,
    "pycharm": {
     "name": "#%%\n"
    }
   }
  },
  {
   "cell_type": "code",
   "execution_count": 406,
   "outputs": [],
   "source": [
    "# Alt+ Shift + B\n",
    "clf = clf.fit(X_train,y_train)"
   ],
   "metadata": {
    "collapsed": false,
    "pycharm": {
     "name": "#%%\n"
    }
   }
  },
  {
   "cell_type": "code",
   "execution_count": 407,
   "outputs": [],
   "source": [
    "y_pred = clf.predict(X_test)"
   ],
   "metadata": {
    "collapsed": false,
    "pycharm": {
     "name": "#%%\n"
    }
   }
  },
  {
   "cell_type": "code",
   "execution_count": 408,
   "outputs": [
    {
     "name": "stdout",
     "output_type": "stream",
     "text": [
      "Accuracy: 0.6153846153846154\n"
     ]
    }
   ],
   "source": [
    "print(\"Accuracy:\", metrics.accuracy_score(y_test, y_pred))"
   ],
   "metadata": {
    "collapsed": false,
    "pycharm": {
     "name": "#%%\n"
    }
   }
  },
  {
   "cell_type": "code",
   "execution_count": 409,
   "outputs": [
    {
     "name": "stdout",
     "output_type": "stream",
     "text": [
      "[[ 5  1  1]\n",
      " [ 4 10  3]\n",
      " [ 0  1  1]]\n"
     ]
    }
   ],
   "source": [
    "from sklearn.metrics import confusion_matrix\n",
    "\n",
    "#meranie výkonu klasifikácie strojového učenia\n",
    "print(confusion_matrix(y_test, y_pred))"
   ],
   "metadata": {
    "collapsed": false,
    "pycharm": {
     "name": "#%%\n"
    }
   }
  },
  {
   "cell_type": "markdown",
   "source": [
    "## Generovanie rozhodovacieho stromu\n",
    "\n"
   ],
   "metadata": {
    "collapsed": false,
    "pycharm": {
     "name": "#%% md\n"
    }
   }
  },
  {
   "cell_type": "code",
   "execution_count": 410,
   "outputs": [
    {
     "ename": "InvocationException",
     "evalue": "GraphViz's executables not found",
     "output_type": "error",
     "traceback": [
      "\u001B[1;31m---------------------------------------------------------------------------\u001B[0m",
      "\u001B[1;31mInvocationException\u001B[0m                       Traceback (most recent call last)",
      "\u001B[1;32m<ipython-input-410-ec08d4949c3a>\u001B[0m in \u001B[0;36m<module>\u001B[1;34m\u001B[0m\n\u001B[0;32m      8\u001B[0m                 class_names=['0', '1', '2'])\n\u001B[0;32m      9\u001B[0m \u001B[0mgraph\u001B[0m \u001B[1;33m=\u001B[0m \u001B[0mpydotplus\u001B[0m\u001B[1;33m.\u001B[0m\u001B[0mgraph_from_dot_data\u001B[0m\u001B[1;33m(\u001B[0m\u001B[0mdot_data\u001B[0m\u001B[1;33m.\u001B[0m\u001B[0mgetvalue\u001B[0m\u001B[1;33m(\u001B[0m\u001B[1;33m)\u001B[0m\u001B[1;33m)\u001B[0m\u001B[1;33m\u001B[0m\u001B[1;33m\u001B[0m\u001B[0m\n\u001B[1;32m---> 10\u001B[1;33m \u001B[0mgraph\u001B[0m\u001B[1;33m.\u001B[0m\u001B[0mwrite_png\u001B[0m\u001B[1;33m(\u001B[0m\u001B[1;34m'skuska.png'\u001B[0m\u001B[1;33m)\u001B[0m\u001B[1;33m\u001B[0m\u001B[1;33m\u001B[0m\u001B[0m\n\u001B[0m\u001B[0;32m     11\u001B[0m \u001B[0mImage\u001B[0m\u001B[1;33m(\u001B[0m\u001B[0mgraph\u001B[0m\u001B[1;33m.\u001B[0m\u001B[0mcreate_png\u001B[0m\u001B[1;33m(\u001B[0m\u001B[1;33m)\u001B[0m\u001B[1;33m)\u001B[0m\u001B[1;33m\u001B[0m\u001B[1;33m\u001B[0m\u001B[0m\n\u001B[0;32m     12\u001B[0m \u001B[1;33m\u001B[0m\u001B[0m\n",
      "\u001B[1;32m~\\AppData\\Roaming\\Python\\Python36\\site-packages\\pydotplus\\graphviz.py\u001B[0m in \u001B[0;36m<lambda>\u001B[1;34m(path, f, prog)\u001B[0m\n\u001B[0;32m   1808\u001B[0m                 \u001B[1;32mlambda\u001B[0m \u001B[0mpath\u001B[0m\u001B[1;33m,\u001B[0m\u001B[1;33m\u001B[0m\u001B[1;33m\u001B[0m\u001B[0m\n\u001B[0;32m   1809\u001B[0m                 \u001B[0mf\u001B[0m\u001B[1;33m=\u001B[0m\u001B[0mfrmt\u001B[0m\u001B[1;33m,\u001B[0m\u001B[1;33m\u001B[0m\u001B[1;33m\u001B[0m\u001B[0m\n\u001B[1;32m-> 1810\u001B[1;33m                 \u001B[0mprog\u001B[0m\u001B[1;33m=\u001B[0m\u001B[0mself\u001B[0m\u001B[1;33m.\u001B[0m\u001B[0mprog\u001B[0m\u001B[1;33m:\u001B[0m \u001B[0mself\u001B[0m\u001B[1;33m.\u001B[0m\u001B[0mwrite\u001B[0m\u001B[1;33m(\u001B[0m\u001B[0mpath\u001B[0m\u001B[1;33m,\u001B[0m \u001B[0mformat\u001B[0m\u001B[1;33m=\u001B[0m\u001B[0mf\u001B[0m\u001B[1;33m,\u001B[0m \u001B[0mprog\u001B[0m\u001B[1;33m=\u001B[0m\u001B[0mprog\u001B[0m\u001B[1;33m)\u001B[0m\u001B[1;33m\u001B[0m\u001B[1;33m\u001B[0m\u001B[0m\n\u001B[0m\u001B[0;32m   1811\u001B[0m             )\n\u001B[0;32m   1812\u001B[0m \u001B[1;33m\u001B[0m\u001B[0m\n",
      "\u001B[1;32m~\\AppData\\Roaming\\Python\\Python36\\site-packages\\pydotplus\\graphviz.py\u001B[0m in \u001B[0;36mwrite\u001B[1;34m(self, path, prog, format)\u001B[0m\n\u001B[0;32m   1916\u001B[0m \u001B[1;33m\u001B[0m\u001B[0m\n\u001B[0;32m   1917\u001B[0m             \u001B[1;32melse\u001B[0m\u001B[1;33m:\u001B[0m\u001B[1;33m\u001B[0m\u001B[1;33m\u001B[0m\u001B[0m\n\u001B[1;32m-> 1918\u001B[1;33m                 \u001B[0mfobj\u001B[0m\u001B[1;33m.\u001B[0m\u001B[0mwrite\u001B[0m\u001B[1;33m(\u001B[0m\u001B[0mself\u001B[0m\u001B[1;33m.\u001B[0m\u001B[0mcreate\u001B[0m\u001B[1;33m(\u001B[0m\u001B[0mprog\u001B[0m\u001B[1;33m,\u001B[0m \u001B[0mformat\u001B[0m\u001B[1;33m)\u001B[0m\u001B[1;33m)\u001B[0m\u001B[1;33m\u001B[0m\u001B[1;33m\u001B[0m\u001B[0m\n\u001B[0m\u001B[0;32m   1919\u001B[0m         \u001B[1;32mfinally\u001B[0m\u001B[1;33m:\u001B[0m\u001B[1;33m\u001B[0m\u001B[1;33m\u001B[0m\u001B[0m\n\u001B[0;32m   1920\u001B[0m             \u001B[1;32mif\u001B[0m \u001B[0mclose\u001B[0m\u001B[1;33m:\u001B[0m\u001B[1;33m\u001B[0m\u001B[1;33m\u001B[0m\u001B[0m\n",
      "\u001B[1;32m~\\AppData\\Roaming\\Python\\Python36\\site-packages\\pydotplus\\graphviz.py\u001B[0m in \u001B[0;36mcreate\u001B[1;34m(self, prog, format)\u001B[0m\n\u001B[0;32m   1958\u001B[0m             \u001B[1;32mif\u001B[0m \u001B[0mself\u001B[0m\u001B[1;33m.\u001B[0m\u001B[0mprogs\u001B[0m \u001B[1;32mis\u001B[0m \u001B[1;32mNone\u001B[0m\u001B[1;33m:\u001B[0m\u001B[1;33m\u001B[0m\u001B[1;33m\u001B[0m\u001B[0m\n\u001B[0;32m   1959\u001B[0m                 raise InvocationException(\n\u001B[1;32m-> 1960\u001B[1;33m                     'GraphViz\\'s executables not found')\n\u001B[0m\u001B[0;32m   1961\u001B[0m \u001B[1;33m\u001B[0m\u001B[0m\n\u001B[0;32m   1962\u001B[0m         \u001B[1;32mif\u001B[0m \u001B[0mprog\u001B[0m \u001B[1;32mnot\u001B[0m \u001B[1;32min\u001B[0m \u001B[0mself\u001B[0m\u001B[1;33m.\u001B[0m\u001B[0mprogs\u001B[0m\u001B[1;33m:\u001B[0m\u001B[1;33m\u001B[0m\u001B[1;33m\u001B[0m\u001B[0m\n",
      "\u001B[1;31mInvocationException\u001B[0m: GraphViz's executables not found"
     ]
    }
   ],
   "source": [
    "col_names = ['dry-cough', 'sour-throat', 'breathing-problem', 'weakness', 'drowsiness', 'pain-in-chest', 'diabetes','change-in-sns','travel-history', 'gender_F', 'gender_M']\n",
    "\n",
    "dot_data = StringIO()\n",
    "export_graphviz(clf, out_file=dot_data,\n",
    "                filled=True, rounded=False,\n",
    "                special_characters=True,\n",
    "                feature_names = col_names,\n",
    "                class_names=['0', '1', '2'])\n",
    "graph = pydotplus.graph_from_dot_data(dot_data.getvalue())\n",
    "graph.write_png('skuska.png')\n",
    "Image(graph.create_png())"
   ],
   "metadata": {
    "collapsed": false,
    "pycharm": {
     "name": "#%%\n"
    }
   }
  },
  {
   "cell_type": "code",
   "execution_count": null,
   "outputs": [],
   "source": [
    "\n",
    "# rozhodovaci strom\n",
    "\n",
    "import numpy as np\n",
    "from sklearn.tree import _tree\n",
    "\n",
    "def tree_to_code(tree, feature_names, Y):\n",
    "    tree_ = tree.tree_\n",
    "    feature_name = [\n",
    "        feature_names[i] if i != _tree.TREE_UNDEFINED else \"undefined!\"\n",
    "        for i in tree_.feature\n",
    "    ]\n",
    "    pathto=dict()\n",
    "\n",
    "    global k\n",
    "    k = 0\n",
    "    def recurse(node, depth, parent):\n",
    "        global k\n",
    "        indent = \"  \" * depth\n",
    "\n",
    "        if tree_.feature[node] != _tree.TREE_UNDEFINED:\n",
    "            name = feature_name[node]\n",
    "            threshold = tree_.threshold[node]\n",
    "            s= \"{} <= {} \".format( name, threshold, node )\n",
    "            if node == 0:\n",
    "                pathto[node]=s\n",
    "            else:\n",
    "                pathto[node]=pathto[parent]+' & ' +s\n",
    "\n",
    "            recurse(tree_.children_left[node], depth + 1, node)\n",
    "            s=\"{} > {}\".format( name, threshold)\n",
    "            if node == 0:\n",
    "                pathto[node]=s\n",
    "            else:\n",
    "                pathto[node]=pathto[parent]+' & ' +s\n",
    "            recurse(tree_.children_right[node], depth + 1, node)\n",
    "        else:\n",
    "            k=k+1\n",
    "            print(k,')',pathto[parent], tree_.value[node])\n",
    "    recurse(0, 1, 0)\n"
   ],
   "metadata": {
    "collapsed": false,
    "pycharm": {
     "name": "#%%\n"
    }
   }
  },
  {
   "cell_type": "code",
   "execution_count": null,
   "outputs": [],
   "source": [
    "tree_to_code(clf, col_names, y)"
   ],
   "metadata": {
    "collapsed": false,
    "pycharm": {
     "name": "#%%\n"
    }
   }
  }
 ],
 "metadata": {
  "kernelspec": {
   "display_name": "Python 3",
   "language": "python",
   "name": "python3"
  },
  "language_info": {
   "codemirror_mode": {
    "name": "ipython",
    "version": 2
   },
   "file_extension": ".py",
   "mimetype": "text/x-python",
   "name": "python",
   "nbconvert_exporter": "python",
   "pygments_lexer": "ipython2",
   "version": "2.7.6"
  }
 },
 "nbformat": 4,
 "nbformat_minor": 0
}